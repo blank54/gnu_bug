{
 "cells": [
  {
   "cell_type": "markdown",
   "id": "265b848e",
   "metadata": {},
   "source": [
    "# Variable"
   ]
  },
  {
   "cell_type": "code",
   "execution_count": 7,
   "id": "2ba45724",
   "metadata": {},
   "outputs": [],
   "source": [
    "var_str = 'This is string data'\n",
    "var_int = 123\n",
    "var_bool = True"
   ]
  },
  {
   "cell_type": "code",
   "execution_count": 8,
   "id": "32a6ac24",
   "metadata": {},
   "outputs": [
    {
     "name": "stdout",
     "output_type": "stream",
     "text": [
      "<class 'str'>\n",
      "<class 'int'>\n",
      "<class 'bool'>\n"
     ]
    }
   ],
   "source": [
    "print(type(var_str))\n",
    "print(type(var_int))\n",
    "print(type(var_bool))"
   ]
  },
  {
   "cell_type": "markdown",
   "id": "628318fc",
   "metadata": {},
   "source": [
    "# Function"
   ]
  },
  {
   "cell_type": "code",
   "execution_count": 9,
   "id": "0d81781c",
   "metadata": {},
   "outputs": [],
   "source": [
    "def sum(x, y):\n",
    "    return x+y"
   ]
  },
  {
   "cell_type": "code",
   "execution_count": 1,
   "id": "5c0efecd",
   "metadata": {},
   "outputs": [],
   "source": [
    "def sum(left, right):\n",
    "    result = left + right\n",
    "    return result"
   ]
  },
  {
   "cell_type": "code",
   "execution_count": 10,
   "id": "e1dfd8bf",
   "metadata": {},
   "outputs": [
    {
     "data": {
      "text/plain": [
       "5"
      ]
     },
     "execution_count": 10,
     "metadata": {},
     "output_type": "execute_result"
    }
   ],
   "source": [
    "x = 2\n",
    "y = 3\n",
    "sum(x, y)"
   ]
  },
  {
   "cell_type": "markdown",
   "id": "454b19c1",
   "metadata": {},
   "source": [
    "# Class"
   ]
  },
  {
   "cell_type": "code",
   "execution_count": 11,
   "id": "ede71f92",
   "metadata": {},
   "outputs": [],
   "source": [
    "class Calculator():\n",
    "    def add(self, x, y):\n",
    "        return x+y\n",
    "\n",
    "    def sub(self, x, y):\n",
    "        return x-y\n",
    "\n",
    "    def mul(self, x, y):\n",
    "        return x*y\n",
    "\n",
    "    def div(self, x, y):\n",
    "        return x/y"
   ]
  },
  {
   "cell_type": "code",
   "execution_count": 14,
   "id": "064af540",
   "metadata": {},
   "outputs": [
    {
     "name": "stdout",
     "output_type": "stream",
     "text": [
      "9\n"
     ]
    }
   ],
   "source": [
    "cal = Calculator()\n",
    "\n",
    "p = 4\n",
    "q = 5\n",
    "\n",
    "print(cal.add(p, q))"
   ]
  },
  {
   "cell_type": "markdown",
   "id": "4fc80232",
   "metadata": {},
   "source": [
    "# Data Structure"
   ]
  },
  {
   "cell_type": "code",
   "execution_count": 14,
   "id": "a9c4f5e7",
   "metadata": {},
   "outputs": [],
   "source": [
    "# List\n",
    "names = ['Peter', 'Tom', 'Cindy']\n",
    "\n",
    "# Tuple\n",
    "score_peter = ('Peter', 'A0')\n",
    "score_tom = ('Tom', 'B+')\n",
    "score_cindy = ('Cindy', 'A+')\n",
    "\n",
    "# Dictionary\n",
    "scores = {'Peter': 'A0',\n",
    "          'Tom': 'B+',\n",
    "          'Cindy': 'A+'}"
   ]
  },
  {
   "cell_type": "code",
   "execution_count": 21,
   "id": "3c56f080",
   "metadata": {},
   "outputs": [
    {
     "name": "stdout",
     "output_type": "stream",
     "text": [
      "['Peter', 'Jack', 'Cindy']\n"
     ]
    }
   ],
   "source": [
    "# List의 값은 바꿀 수 있음\n",
    "names[1] = 'Jack'\n",
    "print(names)"
   ]
  },
  {
   "cell_type": "code",
   "execution_count": 23,
   "id": "5c2efd2d",
   "metadata": {},
   "outputs": [
    {
     "ename": "TypeError",
     "evalue": "'tuple' object does not support item assignment",
     "output_type": "error",
     "traceback": [
      "\u001b[1;31m---------------------------------------------------------------------------\u001b[0m",
      "\u001b[1;31mTypeError\u001b[0m                                 Traceback (most recent call last)",
      "\u001b[1;32m~\\AppData\\Local\\Temp/ipykernel_21140/2425039420.py\u001b[0m in \u001b[0;36m<module>\u001b[1;34m\u001b[0m\n\u001b[0;32m      1\u001b[0m \u001b[1;31m# Tuple의 값은 바꿀 수 없음\u001b[0m\u001b[1;33m\u001b[0m\u001b[1;33m\u001b[0m\u001b[0m\n\u001b[1;32m----> 2\u001b[1;33m \u001b[0mscore_tom\u001b[0m\u001b[1;33m[\u001b[0m\u001b[1;36m1\u001b[0m\u001b[1;33m]\u001b[0m \u001b[1;33m=\u001b[0m \u001b[1;34m'A+'\u001b[0m\u001b[1;33m\u001b[0m\u001b[1;33m\u001b[0m\u001b[0m\n\u001b[0m",
      "\u001b[1;31mTypeError\u001b[0m: 'tuple' object does not support item assignment"
     ]
    }
   ],
   "source": [
    "# Tuple의 값은 바꿀 수 없음\n",
    "score_tom[1] = 'A+'"
   ]
  },
  {
   "cell_type": "code",
   "execution_count": 23,
   "id": "ad752246",
   "metadata": {},
   "outputs": [
    {
     "name": "stdout",
     "output_type": "stream",
     "text": [
      "B+\n"
     ]
    }
   ],
   "source": [
    "# Dict는 키(Key)로 데이터에 접근할 수 있음\n",
    "print(scores['Tom'])"
   ]
  },
  {
   "cell_type": "markdown",
   "id": "1d49383c",
   "metadata": {},
   "source": [
    "# Basic Functions"
   ]
  },
  {
   "cell_type": "markdown",
   "id": "3eabec9c",
   "metadata": {},
   "source": [
    "1부터 10까지의 정수를 작은 순서대로 출력하라"
   ]
  },
  {
   "cell_type": "code",
   "execution_count": 28,
   "id": "266dbac0",
   "metadata": {},
   "outputs": [
    {
     "name": "stdout",
     "output_type": "stream",
     "text": [
      "1\n",
      "2\n",
      "3\n",
      "4\n",
      "5\n",
      "6\n",
      "7\n",
      "8\n",
      "9\n",
      "10\n"
     ]
    }
   ],
   "source": [
    "print(1)\n",
    "print(2)\n",
    "print(3)\n",
    "print(4)\n",
    "print(5)\n",
    "print(6)\n",
    "print(7)\n",
    "print(8)\n",
    "print(9)\n",
    "print(10)"
   ]
  },
  {
   "cell_type": "code",
   "execution_count": 29,
   "id": "4add05ef",
   "metadata": {},
   "outputs": [
    {
     "name": "stdout",
     "output_type": "stream",
     "text": [
      "1\n",
      "2\n",
      "3\n",
      "4\n",
      "5\n",
      "6\n",
      "7\n",
      "8\n",
      "9\n",
      "10\n"
     ]
    }
   ],
   "source": [
    "for i in [1,2,3,4,5,6,7,8,9,10]:\n",
    "    print(i)"
   ]
  },
  {
   "cell_type": "code",
   "execution_count": 27,
   "id": "a2f04914",
   "metadata": {},
   "outputs": [
    {
     "name": "stdout",
     "output_type": "stream",
     "text": [
      "1\n",
      "2\n",
      "3\n",
      "4\n",
      "5\n",
      "6\n",
      "7\n",
      "8\n",
      "9\n",
      "10\n"
     ]
    }
   ],
   "source": [
    "for i in range(1,11): #1이상 11미만\n",
    "    print(i)"
   ]
  },
  {
   "cell_type": "markdown",
   "id": "8d148725",
   "metadata": {},
   "source": [
    "1부터 10까지의 정수 중 짝수를 작은 순서대로 출력하라"
   ]
  },
  {
   "cell_type": "code",
   "execution_count": 28,
   "id": "84586e87",
   "metadata": {},
   "outputs": [
    {
     "name": "stdout",
     "output_type": "stream",
     "text": [
      "2\n",
      "4\n",
      "6\n",
      "8\n",
      "10\n"
     ]
    }
   ],
   "source": [
    "print(2)\n",
    "print(4)\n",
    "print(6)\n",
    "print(8)\n",
    "print(10)"
   ]
  },
  {
   "cell_type": "code",
   "execution_count": 29,
   "id": "4a187e38",
   "metadata": {},
   "outputs": [
    {
     "name": "stdout",
     "output_type": "stream",
     "text": [
      "2\n",
      "4\n",
      "6\n",
      "8\n",
      "10\n"
     ]
    }
   ],
   "source": [
    "for i in [2,4,6,8,10]:\n",
    "    print(i)"
   ]
  },
  {
   "cell_type": "code",
   "execution_count": null,
   "id": "03c95f8c",
   "metadata": {},
   "outputs": [],
   "source": [
    "for i in range(1,11):\n",
    "    if i % 2 == 0: #2로 나눈 나머지가 0이라면\n",
    "        print(i)"
   ]
  },
  {
   "cell_type": "code",
   "execution_count": 39,
   "id": "e7b54b6f",
   "metadata": {},
   "outputs": [
    {
     "name": "stdout",
     "output_type": "stream",
     "text": [
      "2\n",
      "4\n",
      "6\n",
      "8\n",
      "10\n"
     ]
    }
   ],
   "source": [
    "for i in range(2, 11, 2): #2이상 11미만 2씩 증가\n",
    "    print(i)"
   ]
  },
  {
   "cell_type": "markdown",
   "id": "9bf231dd",
   "metadata": {},
   "source": [
    "1부터 10까지의 정수 중 짝수를 작은 순서대로 출력하고, 홀수는 3을 곱하여 출력하라"
   ]
  },
  {
   "cell_type": "code",
   "execution_count": 40,
   "id": "f599c754",
   "metadata": {},
   "outputs": [
    {
     "name": "stdout",
     "output_type": "stream",
     "text": [
      "3\n",
      "2\n",
      "9\n",
      "4\n",
      "15\n",
      "6\n",
      "21\n",
      "8\n",
      "27\n",
      "10\n"
     ]
    }
   ],
   "source": [
    "for i in range(1,11):\n",
    "    if i % 2 == 0:\n",
    "        print(i)\n",
    "    else:\n",
    "        print(i*3)"
   ]
  },
  {
   "cell_type": "markdown",
   "id": "63c3f89b",
   "metadata": {},
   "source": [
    "# Assignment"
   ]
  },
  {
   "cell_type": "markdown",
   "id": "722b238b",
   "metadata": {},
   "source": [
    "[1] 1부터 30까지의 정수 중 3의 배수를 작은 순서대로 출력하라"
   ]
  },
  {
   "cell_type": "markdown",
   "id": "b1cd70a6",
   "metadata": {},
   "source": [
    "[2] 1부터 30까지의 정수 중 3의 배수를 작은 순서대로 출력하고, 3의 배수가 아니라면 'NO'를 출력하라"
   ]
  },
  {
   "cell_type": "markdown",
   "id": "aa8bf1e4",
   "metadata": {},
   "source": [
    "[3] 1부터 30까지의 정수 중 3의 배수를 큰 순서대로 출력하라"
   ]
  }
 ],
 "metadata": {
  "kernelspec": {
   "display_name": "Python 3 (ipykernel)",
   "language": "python",
   "name": "python3"
  },
  "language_info": {
   "codemirror_mode": {
    "name": "ipython",
    "version": 3
   },
   "file_extension": ".py",
   "mimetype": "text/x-python",
   "name": "python",
   "nbconvert_exporter": "python",
   "pygments_lexer": "ipython3",
   "version": "3.9.7"
  }
 },
 "nbformat": 4,
 "nbformat_minor": 5
}

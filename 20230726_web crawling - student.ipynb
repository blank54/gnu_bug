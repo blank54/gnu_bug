{
 "cells": [
  {
   "cell_type": "code",
   "execution_count": 8,
   "id": "0521df76",
   "metadata": {},
   "outputs": [],
   "source": [
    "from urllib import parse"
   ]
  },
  {
   "cell_type": "markdown",
   "id": "f4cf5e82",
   "metadata": {},
   "source": [
    "# Arguments"
   ]
  },
  {
   "cell_type": "markdown",
   "id": "75c2c7b4",
   "metadata": {},
   "source": [
    "※ 네이버 뉴스는 한번에 4000개밖에 크롤링할 수 없음 --> 날짜를 잘게 쪼개어 수집  \n",
    "※ 웹 크롤러는 네이버 뉴스의 서버에 동일한 요청을 반복적으로 보내기 때문에 바이러스로 의심받을 수 있음 --> 내 컴퓨터의 정보를 headers로 알려줌으로써 이상한 사람이 아니라는 것을 피력"
   ]
  },
  {
   "cell_type": "code",
   "execution_count": 1,
   "id": "67ff3bc6",
   "metadata": {},
   "outputs": [],
   "source": [
    "url_base = 'https://search.naver.com/search.naver?where=news&query={}&sm=tab_opt&sort=0&photo=0&field=0&pd=3&ds={}&de={}&start={}'\n",
    "headers = {\"User-Agent\": \"Mozilla/5.0 (Windows NT 6.3; WOW64) AppleWebKit/537.36 (KHTML, like Gecko) Chrome/44.0.2403.157 Safari/537.36\"}"
   ]
  },
  {
   "cell_type": "code",
   "execution_count": 75,
   "id": "e9afa111",
   "metadata": {},
   "outputs": [],
   "source": [
    "QUERY = '푸바오'\n",
    "DATE_START = '2023.07.01'\n",
    "DATE_END = '2023.07.01'\n",
    "URL_START_IDX = '1'\n",
    "\n",
    "url_list_page = url_base.format(parse.quote(QUERY), DATE_START, DATE_END, URL_START_IDX)"
   ]
  },
  {
   "cell_type": "code",
   "execution_count": 76,
   "id": "7a719968",
   "metadata": {},
   "outputs": [
    {
     "data": {
      "text/plain": [
       "'https://search.naver.com/search.naver?where=news&query=%ED%91%B8%EB%B0%94%EC%98%A4&sm=tab_opt&sort=0&photo=0&field=0&pd=3&ds=2023.07.01&de=2023.07.01&start=1'"
      ]
     },
     "execution_count": 76,
     "metadata": {},
     "output_type": "execute_result"
    }
   ],
   "source": [
    "url_list_page"
   ]
  },
  {
   "cell_type": "markdown",
   "id": "4a0ee120",
   "metadata": {},
   "source": [
    "# Parse List Page"
   ]
  },
  {
   "cell_type": "code",
   "execution_count": 77,
   "id": "a2ff8590",
   "metadata": {},
   "outputs": [],
   "source": [
    "import time\n",
    "from urllib import request\n",
    "from bs4 import BeautifulSoup"
   ]
  },
  {
   "cell_type": "code",
   "execution_count": 78,
   "id": "783c7d53",
   "metadata": {},
   "outputs": [],
   "source": [
    "req = request.Request(url=url_list_page, headers=headers)"
   ]
  },
  {
   "cell_type": "code",
   "execution_count": 79,
   "id": "00b22885",
   "metadata": {},
   "outputs": [],
   "source": [
    "html = request.urlopen(req).read()"
   ]
  },
  {
   "cell_type": "code",
   "execution_count": 80,
   "id": "9fbedecd",
   "metadata": {},
   "outputs": [],
   "source": [
    "soup = BeautifulSoup(html, 'lxml')"
   ]
  },
  {
   "cell_type": "code",
   "execution_count": 81,
   "id": "dcb72b7a",
   "metadata": {},
   "outputs": [
    {
     "name": "stdout",
     "output_type": "stream",
     "text": [
      "['https://n.news.naver.com/mnews/article/666/0000015071?sid=101', 'https://n.news.naver.com/mnews/article/023/0003773051?sid=102', 'https://n.news.naver.com/mnews/article/366/0000913463?sid=105']\n"
     ]
    }
   ],
   "source": [
    "url_list = []\n",
    "for item in soup.find_all('a', class_='info'):\n",
    "    if '네이버뉴스' in item:\n",
    "        url_list.append(item.get('href'))\n",
    "        \n",
    "print(url_list)"
   ]
  },
  {
   "cell_type": "code",
   "execution_count": 82,
   "id": "f625ab84",
   "metadata": {},
   "outputs": [],
   "source": [
    "url_list = [url.get('href') for url in soup.find_all('a', class_='info') if '네이버뉴스' in url]"
   ]
  },
  {
   "cell_type": "code",
   "execution_count": 83,
   "id": "743c73b6",
   "metadata": {},
   "outputs": [
    {
     "data": {
      "text/plain": [
       "['https://n.news.naver.com/mnews/article/666/0000015071?sid=101',\n",
       " 'https://n.news.naver.com/mnews/article/023/0003773051?sid=102',\n",
       " 'https://n.news.naver.com/mnews/article/366/0000913463?sid=105']"
      ]
     },
     "execution_count": 83,
     "metadata": {},
     "output_type": "execute_result"
    }
   ],
   "source": [
    "url_list"
   ]
  },
  {
   "cell_type": "markdown",
   "id": "292d1707",
   "metadata": {},
   "source": [
    "# Parse Article Page"
   ]
  },
  {
   "cell_type": "code",
   "execution_count": 84,
   "id": "e50e844a",
   "metadata": {},
   "outputs": [],
   "source": [
    "req = request.Request(url=url_list[0], headers=headers)\n",
    "html = request.urlopen(req).read()\n",
    "soup = BeautifulSoup(html, 'lxml')"
   ]
  },
  {
   "cell_type": "code",
   "execution_count": 93,
   "id": "00fe822e",
   "metadata": {},
   "outputs": [
    {
     "name": "stdout",
     "output_type": "stream",
     "text": [
      "\"판다 사육하고 50만원\"…여름방학 이색알바 '눈길'\n"
     ]
    }
   ],
   "source": [
    "for item in soup.find_all('h2', id='title_area'):\n",
    "    print(item.get_text())"
   ]
  },
  {
   "cell_type": "code",
   "execution_count": 97,
   "id": "6a638cf7",
   "metadata": {},
   "outputs": [
    {
     "data": {
      "text/plain": [
       "[<span class=\"media_end_head_info_datestamp_time _ARTICLE_DATE_TIME\" data-date-time=\"2023-07-01 10:02:01\">2023.07.01. 오전 10:02</span>]"
      ]
     },
     "execution_count": 97,
     "metadata": {},
     "output_type": "execute_result"
    }
   ],
   "source": [
    "soup.find_all('span', class_='media_end_head_info_datestamp_time _ARTICLE_DATE_TIME')"
   ]
  },
  {
   "cell_type": "code",
   "execution_count": 99,
   "id": "e0bfda01",
   "metadata": {},
   "outputs": [
    {
     "data": {
      "text/plain": [
       "'2023.07.01. 오전 10:02'"
      ]
     },
     "execution_count": 99,
     "metadata": {},
     "output_type": "execute_result"
    }
   ],
   "source": [
    "soup.find('span', class_='media_end_head_info_datestamp_time _ARTICLE_DATE_TIME').get_text()"
   ]
  },
  {
   "cell_type": "code",
   "execution_count": 104,
   "id": "5de95835",
   "metadata": {},
   "outputs": [
    {
     "data": {
      "text/plain": [
       "\"\\n \\n\\n\\n\\n    당근마켓과 에버랜드가 함께 진행하는 '푸바오 매니저 알바'. 당근마켓 캡처      코로나19\\u2008이후\\u2008일자리\\u2008구조\\u2008변화와\\u2008시급\\u2008인상\\u2008등으로\\u2008알바\\u2008자리가\\u2008줄어드는\\u2008가운데\\u2008여름방학을\\u2008맞은\\u2008대학생들을\\u2008사로\\u2008잡는\\u2008이색\\u2008알바들이\\u2008눈길을\\u2008끌고\\u2008있다.   먼저,\\u2008당근마켓과\\u2008에버랜드는\\u2008지역\\u2008기반\\u2008구인·구직\\u2008서비스\\u2008‘당근알바’를\\u2008통해\\u2008색다른\\u2008놀이공원\\u2008알바\\u2008체험을\\u2008제공하는\\u2008‘올여름 한량 알바’\\u2008이벤트를\\u2008진행하고\\u2008있다.\\u2008총\\u2008200명(100명 추첨, 1인 동행)에게\\u2008에버랜드에서\\u2008신나는\\u2008하루를\\u2008보내는\\u2008임무가\\u2008부여되는\\u2008체험형\\u2008이벤트로\\u2008이달\\u20082일까지\\u2008신청을\\u2008받고\\u2008있다.   그중에서도\\u2008판다\\u2008‘푸바오’의\\u2008일일\\u2008매니저를\\u2008체험하는\\u2008알바가\\u2008청년층의\\u2008큰\\u2008인기를\\u2008끌고\\u2008있다.\\u2008알바\\u2008지원서에\\u2008푸바오에\\u2008대한\\u2008애정을\\u2008담아\\u2008올리면,\\u2008이달\\u200810일부터\\u200814일\\u2008사이에\\u2008푸바오\\u2008사육사와\\u2008함께\\u2008체험\\u2008프로그램에\\u2008참여할\\u2008수\\u2008있다.\\u2008총\\u20083명을\\u2008선발해\\u2008당근머니\\u200850만원을\\u2008지급한다.   일일\\u2008매니저에\\u2008지원했다는\\u2008대학생\\u2008김현영씨(25·가명)는\\u2008“사육사라는 직업에도\\u2008관심이\\u2008많아\\u2008이번\\u2008알바에\\u2008지원했는데,\\u2008판다를\\u2008포함해\\u2008다양한\\u2008동물을\\u2008좋아하는\\u2008사람들에겐\\u2008매력적인\\u2008알바\\u2008중\\u2008하나인\\u2008것\\u2008같다”고\\u2008기대감을\\u2008드러냈다.   또\\u2008벤츠 등 수입\\u2008자동차\\u2008전시장의\\u2008‘리셉션 알바’도\\u2008청년층\\u2008관심이\\u2008많은\\u2008이색\\u2008알바\\u2008중\\u2008하나다.\\u2008리셉션에서\\u2008차량\\u2008상담 등을 위해 전시장에 오는\\u2008손님들을\\u2008안내하는\\u2008업무로, 서비스직을 꿈꾸는 대학생들이\\u2008주로\\u2008찾는다.   최근에는\\u2008반려동물\\u2008문화의\\u2008확산에\\u2008따라\\u2008‘애견 유치원’\\u2008알바도\\u2008이색\\u2008알바로\\u2008주목받고\\u2008있다.\\u2008유치원에\\u2008‘등원’한\\u2008반려동물의\\u2008위생관리부터\\u2008등·하원까지\\u2008전반적인\\u2008관리에\\u2008집중하는\\u2008업무로,\\u2008강아지나\\u2008고양이\\u2008등\\u2008반려동물에\\u2008관심이\\u2008많은\\u2008청년층에게\\u2008인기가\\u2008높다.\\u2008시급\\u2008역시\\u20081만원\\u2008대로\\u2008적지\\u2008않은\\u2008수준이다.   전문가들은\\u2008청년층이\\u2008이색\\u2008알바에\\u2008집중하는\\u2008현상을\\u2008‘재미를 추구하는 또래 문화’의\\u2008영향\\u2008중\\u2008하나라고\\u2008평가했다.   이은희\\u2008인하대\\u2008소비자학과\\u2008교수는\\u2008“청년층은 돈을\\u2008많이 버는 것도 중요하지만, 어떻게 버는지도 중요하게\\u2008생각한다”며\\u2008“이러한 이유로 알바를 할 때도\\u2008기왕이면\\u2008재밌게\\u2008할\\u2008수\\u2008있는\\u2008것을\\u2008찾게\\u2008돼\\u2008이색\\u2008알바를\\u2008하는\\u2008경우가\\u2008많고,\\u2008이러한\\u2008청년들의\\u2008심리를\\u2008알고 있는 회사들도\\u2008이색 알바를 내놓으며 마케팅에\\u2008활용하고\\u2008있는\\u2008것”이라고\\u2008분석했다.\\n\""
      ]
     },
     "execution_count": 104,
     "metadata": {},
     "output_type": "execute_result"
    }
   ],
   "source": [
    "soup.find('div', id='dic_area').get_text()"
   ]
  },
  {
   "cell_type": "code",
   "execution_count": 105,
   "id": "41b97e64",
   "metadata": {},
   "outputs": [],
   "source": [
    "import re"
   ]
  },
  {
   "cell_type": "code",
   "execution_count": 106,
   "id": "0a899b46",
   "metadata": {},
   "outputs": [
    {
     "data": {
      "text/plain": [
       "\"\\n \\n\\n\\n\\n    당근마켓과 에버랜드가 함께 진행하는 '푸바오 매니저 알바'. 당근마켓 캡처      코로나19 이후 일자리 구조 변화와 시급 인상 등으로 알바 자리가 줄어드는 가운데 여름방학을 맞은 대학생들을 사로 잡는 이색 알바들이 눈길을 끌고 있다.   먼저, 당근마켓과 에버랜드는 지역 기반 구인·구직 서비스 ‘당근알바’를 통해 색다른 놀이공원 알바 체험을 제공하는 ‘올여름 한량 알바’ 이벤트를 진행하고 있다. 총 200명(100명 추첨, 1인 동행)에게 에버랜드에서 신나는 하루를 보내는 임무가 부여되는 체험형 이벤트로 이달 2일까지 신청을 받고 있다.   그중에서도 판다 ‘푸바오’의 일일 매니저를 체험하는 알바가 청년층의 큰 인기를 끌고 있다. 알바 지원서에 푸바오에 대한 애정을 담아 올리면, 이달 10일부터 14일 사이에 푸바오 사육사와 함께 체험 프로그램에 참여할 수 있다. 총 3명을 선발해 당근머니 50만원을 지급한다.   일일 매니저에 지원했다는 대학생 김현영씨(25·가명)는 “사육사라는 직업에도 관심이 많아 이번 알바에 지원했는데, 판다를 포함해 다양한 동물을 좋아하는 사람들에겐 매력적인 알바 중 하나인 것 같다”고 기대감을 드러냈다.   또 벤츠 등 수입 자동차 전시장의 ‘리셉션 알바’도 청년층 관심이 많은 이색 알바 중 하나다. 리셉션에서 차량 상담 등을 위해 전시장에 오는 손님들을 안내하는 업무로, 서비스직을 꿈꾸는 대학생들이 주로 찾는다.   최근에는 반려동물 문화의 확산에 따라 ‘애견 유치원’ 알바도 이색 알바로 주목받고 있다. 유치원에 ‘등원’한 반려동물의 위생관리부터 등·하원까지 전반적인 관리에 집중하는 업무로, 강아지나 고양이 등 반려동물에 관심이 많은 청년층에게 인기가 높다. 시급 역시 1만원 대로 적지 않은 수준이다.   전문가들은 청년층이 이색 알바에 집중하는 현상을 ‘재미를 추구하는 또래 문화’의 영향 중 하나라고 평가했다.   이은희 인하대 소비자학과 교수는 “청년층은 돈을 많이 버는 것도 중요하지만, 어떻게 버는지도 중요하게 생각한다”며 “이러한 이유로 알바를 할 때도 기왕이면 재밌게 할 수 있는 것을 찾게 돼 이색 알바를 하는 경우가 많고, 이러한 청년들의 심리를 알고 있는 회사들도 이색 알바를 내놓으며 마케팅에 활용하고 있는 것”이라고 분석했다.\\n\""
      ]
     },
     "execution_count": 106,
     "metadata": {},
     "output_type": "execute_result"
    }
   ],
   "source": [
    "text = soup.find('div', id='dic_area').get_text()\n",
    "re.sub('\\u2008', ' ', text)"
   ]
  },
  {
   "cell_type": "code",
   "execution_count": null,
   "id": "c80538c2",
   "metadata": {},
   "outputs": [],
   "source": []
  },
  {
   "cell_type": "code",
   "execution_count": null,
   "id": "ace09858",
   "metadata": {},
   "outputs": [],
   "source": []
  },
  {
   "cell_type": "code",
   "execution_count": null,
   "id": "e5f94227",
   "metadata": {},
   "outputs": [],
   "source": []
  },
  {
   "cell_type": "code",
   "execution_count": null,
   "id": "d8b1a699",
   "metadata": {},
   "outputs": [],
   "source": []
  },
  {
   "cell_type": "code",
   "execution_count": 133,
   "id": "d32e4c25",
   "metadata": {},
   "outputs": [],
   "source": [
    "import numpy as np"
   ]
  },
  {
   "cell_type": "code",
   "execution_count": 137,
   "id": "010c9373",
   "metadata": {},
   "outputs": [
    {
     "ename": "AttributeError",
     "evalue": "module 'numpy' has no attribute 'nrand'",
     "output_type": "error",
     "traceback": [
      "\u001b[1;31m---------------------------------------------------------------------------\u001b[0m",
      "\u001b[1;31mAttributeError\u001b[0m                            Traceback (most recent call last)",
      "\u001b[1;32m~\\AppData\\Local\\Temp/ipykernel_20508/3167896862.py\u001b[0m in \u001b[0;36m<module>\u001b[1;34m\u001b[0m\n\u001b[1;32m----> 1\u001b[1;33m \u001b[0mnp\u001b[0m\u001b[1;33m.\u001b[0m\u001b[0mnrand\u001b[0m\u001b[1;33m(\u001b[0m\u001b[1;33m)\u001b[0m\u001b[1;33m\u001b[0m\u001b[1;33m\u001b[0m\u001b[0m\n\u001b[0m",
      "\u001b[1;32m~\\anaconda3\\lib\\site-packages\\numpy\\__init__.py\u001b[0m in \u001b[0;36m__getattr__\u001b[1;34m(attr)\u001b[0m\n\u001b[0;32m    301\u001b[0m                 \u001b[1;32mreturn\u001b[0m \u001b[0mTester\u001b[0m\u001b[1;33m\u001b[0m\u001b[1;33m\u001b[0m\u001b[0m\n\u001b[0;32m    302\u001b[0m \u001b[1;33m\u001b[0m\u001b[0m\n\u001b[1;32m--> 303\u001b[1;33m             raise AttributeError(\"module {!r} has no attribute \"\n\u001b[0m\u001b[0;32m    304\u001b[0m                                  \"{!r}\".format(__name__, attr))\n\u001b[0;32m    305\u001b[0m \u001b[1;33m\u001b[0m\u001b[0m\n",
      "\u001b[1;31mAttributeError\u001b[0m: module 'numpy' has no attribute 'nrand'"
     ]
    }
   ],
   "source": [
    "np."
   ]
  },
  {
   "cell_type": "code",
   "execution_count": 119,
   "id": "f898b27b",
   "metadata": {},
   "outputs": [],
   "source": [
    "naver = {}\n",
    "for idx, url in enumerate(url_list):\n",
    "    req = request.Request(url=url, headers=headers)\n",
    "    html = request.urlopen(req).read()\n",
    "    soup = BeautifulSoup(html, 'lxml')\n",
    "    \n",
    "    title = soup.find('h2', id='title_area').get_text()\n",
    "    date = soup.find('span', class_='media_end_head_info_datestamp_time _ARTICLE_DATE_TIME').get_text()\n",
    "    content = re.sub('\\u2008', ' ', soup.find('div', id='dic_area').get_text())\n",
    "    \n",
    "    article_key = '{:04d}'.format(idx)\n",
    "    naver[article_key] = {\n",
    "        'title': title,\n",
    "        'date': date,\n",
    "        'content': content\n",
    "    }\n",
    "    \n",
    "    time.sleep(3)"
   ]
  },
  {
   "cell_type": "code",
   "execution_count": 122,
   "id": "5653cbce",
   "metadata": {},
   "outputs": [
    {
     "data": {
      "text/plain": [
       "'2023.07.01. 오전 3:05'"
      ]
     },
     "execution_count": 122,
     "metadata": {},
     "output_type": "execute_result"
    }
   ],
   "source": [
    "naver['0001']['date']"
   ]
  },
  {
   "cell_type": "code",
   "execution_count": 123,
   "id": "f3c6931a",
   "metadata": {},
   "outputs": [
    {
     "data": {
      "text/plain": [
       "'[애니멀리포트] 비쩍 마른 부경동물원 사자, 7년 만에 케이지 벗어나 흙 밟는다'"
      ]
     },
     "execution_count": 123,
     "metadata": {},
     "output_type": "execute_result"
    }
   ],
   "source": [
    "naver['0002']['title']"
   ]
  },
  {
   "cell_type": "code",
   "execution_count": 124,
   "id": "33d75214",
   "metadata": {},
   "outputs": [
    {
     "name": "stdout",
     "output_type": "stream",
     "text": [
      "\"판다 사육하고 50만원\"…여름방학 이색알바 '눈길'\n",
      "섬마을 작은 학교 졸업 사진 남겨주러… 카메라 들고 배 타는 사진사들\n",
      "[애니멀리포트] 비쩍 마른 부경동물원 사자, 7년 만에 케이지 벗어나 흙 밟는다\n"
     ]
    }
   ],
   "source": [
    "for article_key in naver.keys():\n",
    "    print(naver[article_key]['title'])"
   ]
  },
  {
   "cell_type": "markdown",
   "id": "390cec34",
   "metadata": {},
   "source": [
    "# Export Articles"
   ]
  },
  {
   "cell_type": "code",
   "execution_count": 125,
   "id": "a073b4d9",
   "metadata": {},
   "outputs": [],
   "source": [
    "import os\n",
    "import json"
   ]
  },
  {
   "cell_type": "code",
   "execution_count": 126,
   "id": "96b39e30",
   "metadata": {},
   "outputs": [],
   "source": [
    "fdir = 'C:\\Google Drive/playground/23_workspace/bug/data/naver_news'\n",
    "fname = 'naver.json'\n",
    "fpath = os.path.join(fdir, fname)\n",
    "\n",
    "with open(fpath, 'w', encoding='utf-8') as f:\n",
    "    json.dump(naver, f)"
   ]
  },
  {
   "cell_type": "code",
   "execution_count": 127,
   "id": "b1512f59",
   "metadata": {},
   "outputs": [],
   "source": [
    "with open(fpath, 'r', encoding='utf-8') as f:\n",
    "    new_naver = json.load(f)"
   ]
  },
  {
   "cell_type": "code",
   "execution_count": null,
   "id": "06083482",
   "metadata": {},
   "outputs": [],
   "source": []
  },
  {
   "cell_type": "code",
   "execution_count": null,
   "id": "39f9c868",
   "metadata": {},
   "outputs": [],
   "source": []
  },
  {
   "cell_type": "code",
   "execution_count": null,
   "id": "1fd6a849",
   "metadata": {},
   "outputs": [],
   "source": []
  },
  {
   "cell_type": "code",
   "execution_count": null,
   "id": "11a3cfcc",
   "metadata": {},
   "outputs": [],
   "source": []
  },
  {
   "cell_type": "code",
   "execution_count": 132,
   "id": "ba2a7561",
   "metadata": {},
   "outputs": [],
   "source": [
    "fdir = 'C:\\Google Drive/playground/23_workspace/bug/data/naver_news'\n",
    "for article_key, article in naver.items():\n",
    "    fname = 'article_{}.json'.format(article_key)\n",
    "    fpath_article = os.path.join(fdir, fname)\n",
    "    with open(fpath_article, 'w', encoding='utf-8') as f:\n",
    "        json.dump(article, f)"
   ]
  }
 ],
 "metadata": {
  "kernelspec": {
   "display_name": "Python 3 (ipykernel)",
   "language": "python",
   "name": "python3"
  },
  "language_info": {
   "codemirror_mode": {
    "name": "ipython",
    "version": 3
   },
   "file_extension": ".py",
   "mimetype": "text/x-python",
   "name": "python",
   "nbconvert_exporter": "python",
   "pygments_lexer": "ipython3",
   "version": "3.9.7"
  }
 },
 "nbformat": 4,
 "nbformat_minor": 5
}

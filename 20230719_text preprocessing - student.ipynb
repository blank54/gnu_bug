{
 "cells": [
  {
   "cell_type": "code",
   "execution_count": 3,
   "id": "b6e375ee",
   "metadata": {},
   "outputs": [],
   "source": [
    "import os\n",
    "import re"
   ]
  },
  {
   "cell_type": "code",
   "execution_count": 4,
   "id": "906aff89",
   "metadata": {},
   "outputs": [],
   "source": [
    "fdir_data = 'C:/Google Drive/playground/23_workspace/bug/data/accident_report/'\n",
    "flist = os.listdir(fdir_data)\n",
    "\n",
    "data = []\n",
    "for fname in flist:\n",
    "    fpath = os.path.join(fdir_data, fname)\n",
    "    with open(fpath, 'r', encoding='utf-8') as f:\n",
    "        text = f.read()\n",
    "        \n",
    "    data.append(text)"
   ]
  },
  {
   "cell_type": "markdown",
   "id": "6702bb82",
   "metadata": {},
   "source": [
    "# Normalization"
   ]
  },
  {
   "cell_type": "code",
   "execution_count": 5,
   "id": "ffda831a",
   "metadata": {},
   "outputs": [
    {
     "data": {
      "text/plain": [
       "'\\ufeff낙하물방지망 설치 중 가공전로에 감전\\n\\n\\n\\n공 사 명\\n숭의동 ○○ 업무시설 신축\\n발생일시\\n2016.06.08.(수) 14:30경\\n재해형태\\n감전\\n재해정도\\n사망 1명\\n소 재 지\\n인천시 남구 숭의동\\n공사규모\\n지하1층, 지상13층,1개동\\n재해개요\\n 2016.06.08(수) 14:30경 인천시 남구 숭의동 소재 『(주)○○종합건설 숭의동 ○○ 업무시설 신축공사』현장에서, (주)○○종합건설 소속 피재자 피재자(남,비계공,51세)가 지상 4층(약 11m) 높이의 외부비계에서 강관파이프를 이용하여 낙하물방지망 설치용 비계를 설치하던 중, 강관파이프(6m)가 가공전로(22.9KV 배전선로)의 충전부에 닿으며 발생한 아아크 및 전격에 의해 전신 화상을 당하고 지상 바닥으로 떨어져 사망한 재해 임.\\n재  해  상  황  도\\n\\n안전대책\\n❍ 가공전로와 접촉을 방지하기 위한 조치 실시\\n -사업주는 가공전로에 근접하여 비계를 설치하는 경우에는 가공\\n  전로를 이설하거나 가공전로에 절연용 방호구를 장착하는 등\\n  가공전로와의 접촉을 방지하기 위한 조치를 취해야 함\\n\\n❍ 충전전로 인근 접근금지 조치 실시\\n -사업주는 근로자가 충전전로 인근의 높은 곳에서 작업할 때에 \\n  근로자의 몸 또는 긴 도전성 물체가 방호되지 않은 경우 충전\\n  전로에서 대지전압이 50킬로볼트 이하인 경우 3m 이내로 접근\\n  할 수 없도록 조치하여야 함\\n\\n\\n□ 관련사진\\n\\n재해조사 당시 현장전경\\n\\n전도된 방향으로 집진기에 걸쳐져 있는 내부 구조물(큐브시트)\\n\\n\\n'"
      ]
     },
     "execution_count": 5,
     "metadata": {},
     "output_type": "execute_result"
    }
   ],
   "source": [
    "data[0]"
   ]
  },
  {
   "cell_type": "code",
   "execution_count": 6,
   "id": "a0e21e01",
   "metadata": {},
   "outputs": [],
   "source": [
    "text_raw = data[0]"
   ]
  },
  {
   "cell_type": "code",
   "execution_count": 7,
   "id": "0e092d44",
   "metadata": {},
   "outputs": [
    {
     "data": {
      "text/plain": [
       "'\\ufeff낙하물방지망 설치 중 가공전로에 감전\\n\\n\\n\\n공 사 명\\n숭의동 ○○ 업무시설 신축\\n발생일시\\n2016.06.08.(수) 14:30경\\n재해형태\\n감전\\n재해정도\\n사망 1명\\n소 재 지\\n인천시 남구 숭의동\\n공사규모\\n지하1층, 지상13층,1개동\\n재해개요\\n 2016.06.08(수) 14:30경 인천시 남구 숭의동 소재 『(주)○○종합건설 숭의동 ○○ 업무시설 신축공사』현장에서, (주)○○종합건설 소속 피재자 피재자(남,비계공,51세)가 지상 4층(약 11m) 높이의 외부비계에서 강관파이프를 이용하여 낙하물방지망 설치용 비계를 설치하던 중, 강관파이프(6m)가 가공전로(22.9KV 배전선로)의 충전부에 닿으며 발생한 아아크 및 전격에 의해 전신 화상을 당하고 지상 바닥으로 떨어져 사망한 재해 임.\\n재  해  상  황  도\\n\\n안전대책\\n❍ 가공전로와 접촉을 방지하기 위한 조치 실시\\n -사업주는 가공전로에 근접하여 비계를 설치하는 경우에는 가공\\n  전로를 이설하거나 가공전로에 절연용 방호구를 장착하는 등\\n  가공전로와의 접촉을 방지하기 위한 조치를 취해야 함\\n\\n❍ 충전전로 인근 접근금지 조치 실시\\n -사업주는 근로자가 충전전로 인근의 높은 곳에서 작업할 때에 \\n  근로자의 몸 또는 긴 도전성 물체가 방호되지 않은 경우 충전\\n  전로에서 대지전압이 50킬로볼트 이하인 경우 3m 이내로 접근\\n  할 수 없도록 조치하여야 함\\n\\n\\n□ 관련사진\\n\\n재해조사 당시 현장전경\\n\\n전도된 방향으로 집진기에 걸쳐져 있는 내부 구조물(큐브시트)\\n\\n\\n'"
      ]
     },
     "execution_count": 7,
     "metadata": {},
     "output_type": "execute_result"
    }
   ],
   "source": [
    "text_raw"
   ]
  },
  {
   "cell_type": "code",
   "execution_count": 8,
   "id": "3efcd2db",
   "metadata": {},
   "outputs": [
    {
     "data": {
      "text/plain": [
       "['I ', 'm ', ' boy']"
      ]
     },
     "execution_count": 8,
     "metadata": {},
     "output_type": "execute_result"
    }
   ],
   "source": [
    "'   I am a boy    '.strip().split('a')"
   ]
  },
  {
   "cell_type": "code",
   "execution_count": 9,
   "id": "b4827dac",
   "metadata": {},
   "outputs": [
    {
     "name": "stdout",
     "output_type": "stream",
     "text": [
      "['낙하물방지망 설치 중 가공전로에 감전', '2016.06.08(수) 14:30경 인천시 남구 숭의동 소재 (주)종합건설 숭의동 업무시설 신축공사현장에서 (주)종합건설 소속 피재자 피재자(남비계공51세)가 지상 4층(약 11m) 높이의 외부비계에서 강관파이프를 이용하여 낙하물방지망 설치용 비계를 설치하던 중 강관파이프(6m)가 가공전로(22.9KV 배전선로)의 충전부에 닿으며 발생한 아아크 및 전격에 의해 전신 화상을 당하고 지상 바닥으로 떨어져 사망한 재해 임.', '재 해 상 황 도', ' 가공전로와 접촉을 방지하기 위한 조치 실시', '사업주는 가공전로에 근접하여 비계를 설치하는 경우에는 가공', '전로를 이설하거나 가공전로에 절연용 방호구를 장착하는 등', '가공전로와의 접촉을 방지하기 위한 조치를 취해야 함', ' 충전전로 인근 접근금지 조치 실시', '사업주는 근로자가 충전전로 인근의 높은 곳에서 작업할 때에', '근로자의 몸 또는 긴 도전성 물체가 방호되지 않은 경우 충전', '전로에서 대지전압이 50킬로볼트 이하인 경우 3m 이내로 접근', '할 수 없도록 조치하여야 함', '전도된 방향으로 집진기에 걸쳐져 있는 내부 구조물(큐브시트)']\n"
     ]
    }
   ],
   "source": [
    "sents = re.split('\\n', text_raw)\n",
    "normalized_sents = []\n",
    "\n",
    "for sent in sents:\n",
    "    sent = re.sub('[^ 0-9a-zA-Zㄱ-힣.:()]', '', sent.strip())\n",
    "    sent = re.sub('\\s+', ' ', sent)\n",
    "    \n",
    "    if len(sent.split()) > 3:\n",
    "        normalized_sents.append(sent)\n",
    "        \n",
    "print(normalized_sents)"
   ]
  },
  {
   "cell_type": "markdown",
   "id": "d27b2bf9",
   "metadata": {},
   "source": [
    "# Tokenization"
   ]
  },
  {
   "cell_type": "markdown",
   "id": "52dd3dd8",
   "metadata": {},
   "source": [
    "KoNLPy를 사용하기 위해 다음의 링크에서 설치 과정을 따라간다.\n",
    "\n",
    "https://velog.io/@qw4735/konlpy-%EC%84%A4%EC%B9%98%EB%B0%A9%EB%B2%95\n",
    "\n",
    "※ 파이썬 버전 확인하기: !python --version  \n",
    "※ 파이썬 설치위치 확인하기: import sys; sys.executable  \n",
    "※ JDK 설치위치 확인하기: 기본경로(\"C:\\Program Files\\Java\\jdk...\")"
   ]
  },
  {
   "cell_type": "markdown",
   "id": "26513b37",
   "metadata": {},
   "source": [
    "### Advanced: Bi-gram Tokenization"
   ]
  },
  {
   "cell_type": "code",
   "execution_count": 2,
   "id": "a068ba7b",
   "metadata": {},
   "outputs": [],
   "source": [
    "from konlpy.tag import Komoran\n",
    "komoran = Komoran()"
   ]
  },
  {
   "cell_type": "code",
   "execution_count": 10,
   "id": "a11ddffe",
   "metadata": {},
   "outputs": [
    {
     "name": "stdout",
     "output_type": "stream",
     "text": [
      "[['낙하', '물', '방지', '망', '설치', '중', '가공', '전', '로', '에', '감전'], ['2016', '.', '06', '.', '08', '(', '수', ')', '14', ':', '30', '경', '인천시', '남구', '숭의동', '소재', '(', '주', ')', '종합', '건설', '숭의동', '업무', '시설', '신축', '공사', '현장', '에서', '(', '주', ')', '종합', '건설', '소속', '피', '재자', '피', '재자', '(', '남', '비계', '공', '51', '세', ')', '가', '지상', '4', '층', '(', '약', '11', 'm', ')', '높이', '의', '외부', '비계', '에서', '강', '관', '파이프', '를', '이용', '하', '아', '낙하', '물', '방지', '망', '설치', '용', '비계', '를', '설치', '하', '던', '중', '강', '관', '파이프', '(', '6', 'm', ')', '가', '가공', '전', '로', '(', '22', '.', '9', 'KV', '배전', '선로', ')', '의', '충전', '부', '에', '닿', '으며', '발생', '하', 'ㄴ', '아', '아크', '및', '전격', '에', '의하', '아', '전신', '화상', '을', '당하', '고', '지상', '바닥', '으로', '떨어지', '어', '사망', '하', 'ㄴ', '재해', '임', '.'], ['재', '하', '아', '상', '황', '도'], ['가공', '전', '롭', '아', '접촉', '을', '방지', '하', '기', '위하', 'ㄴ', '조치', '실시'], ['사업주', '는', '가공', '전', '로', '에', '근접', '하', '아', '비계', '를', '설치', '하', '는', '경우', '에', '는', '가공'], ['전', '로', '를', '이설', '하', '거나', '가공', '전', '로', '에', '절연', '용', '방', '호구', '를', '장착', '하', '는', '등'], ['가공', '전', '로', '와', '의', '접촉', '을', '방지', '하', '기', '위하', 'ㄴ', '조치', '를', '취하', '아야', '하', 'ㅁ'], ['충전', '전', '로', '인근', '접근', '금지', '조치', '실시'], ['사업주', '는', '근로자', '가', '충전', '전', '로', '인근', '의', '높', '은', '곳', '에서', '작업', '하', 'ㄹ', '때', '에'], ['근로자', '의', '몸', '또는', '길', 'ㄴ', '도전', '성', '물체', '가', '방호', '되', '지', '않', '은', '경우', '충전'], ['전', '로', '에서', '대지', '전압', '이', '50', '킬로', '볼트', '이하', '이', 'ㄴ', '경우', '3', 'm', '이내', '로', '접근'], ['하', 'ㄹ', '수', '없', '도록', '조치', '하', '아야', '하', 'ㅁ'], ['전도', '되', 'ㄴ', '방향', '으로', '집', '진기', '에', '걸치', '어', '지', '어', '있', '는', '내부', '구조물', '(', '큐브', '시트', ')']]\n"
     ]
    }
   ],
   "source": [
    "tokenized_sents = []\n",
    "for sent in normalized_sents:\n",
    "    tokenized_sents.append(komoran.morphs(sent))\n",
    "    \n",
    "print(tokenized_sents)"
   ]
  },
  {
   "cell_type": "code",
   "execution_count": 11,
   "id": "80c5ca8e",
   "metadata": {},
   "outputs": [
    {
     "name": "stdout",
     "output_type": "stream",
     "text": [
      "[['낙하', '물', '방지', '망', '설치', '중', '가공', '전', '감전'], ['수', '경', '인천시', '남구', '숭의동', '소재', '주', '종합', '건설', '숭의동', '업무', '시설', '신축', '공사', '현장', '주', '종합', '건설', '소속', '재자', '재자', '남', '비계', '공', '세', '지상', '높이', '외부', '비계', '강', '관', '파이프', '이용', '낙하', '물', '방지', '망', '설치', '비계', '설치', '중', '강', '관', '파이프', '가공', '전', 'KV', '배전', '선로', '충전', '부', '발생', '아', '아크', '전격', '전신', '화상', '지상', '바닥', '사망', '재해', '임'], ['상', '황', '도'], ['가공', '전', '접촉', '방지', '조치', '실시'], ['사업주', '가공', '전', '근접', '비계', '설치', '경우', '가공'], ['전', '이설', '가공', '전', '절연', '방', '호구', '장착', '등'], ['가공', '전', '접촉', '방지', '조치'], ['충전', '전', '인근', '접근', '금지', '조치', '실시'], ['사업주', '근로자', '충전', '전', '인근', '곳', '작업', '때'], ['근로자', '몸', '도전', '물체', '방호', '경우', '충전'], ['전', '대지', '전압', '킬로', '볼트', '이하', '경우', '이내', '접근'], ['수', '조치'], ['전도', '방향', '집', '진기', '내부', '구조물', '큐브', '시트']]\n"
     ]
    }
   ],
   "source": [
    "sents_noun = []\n",
    "for sent in normalized_sents:\n",
    "    sents_noun.append(komoran.nouns(sent))\n",
    "    \n",
    "print(sents_noun)"
   ]
  },
  {
   "cell_type": "markdown",
   "id": "153b3829",
   "metadata": {},
   "source": [
    "# Stopwords Removal"
   ]
  },
  {
   "cell_type": "code",
   "execution_count": 12,
   "id": "461be4c8",
   "metadata": {},
   "outputs": [
    {
     "name": "stdout",
     "output_type": "stream",
     "text": [
      "중\n",
      "재해\n",
      "임\n"
     ]
    }
   ],
   "source": [
    "fname_stoplist = 'stoplist.txt'\n",
    "fdir_thesaurus = 'C:/Google Drive/playground/23_workspace/bug/thesaurus/'\n",
    "fpath_stoplist = os.path.join(fdir_thesaurus, fname_stoplist)\n",
    "with open(fpath_stoplist, 'r', encoding='utf-8') as f:\n",
    "    stoplist = f.read()\n",
    "    \n",
    "print(stoplist)"
   ]
  },
  {
   "cell_type": "code",
   "execution_count": 16,
   "id": "3de7a02a",
   "metadata": {},
   "outputs": [
    {
     "name": "stdout",
     "output_type": "stream",
     "text": [
      "[['낙하', '물', '방지', '망', '설치', '가공', '전', '감전'], ['수', '경', '인천시', '남구', '숭의동', '소재', '주', '종합', '건설', '숭의동', '업무', '시설', '신축', '공사', '현장', '주', '종합', '건설', '소속', '재자', '재자', '남', '비계', '공', '세', '지상', '높이', '외부', '비계', '강', '관', '파이프', '이용', '낙하', '물', '방지', '망', '설치', '비계', '설치', '강', '관', '파이프', '가공', '전', 'KV', '배전', '선로', '충전', '부', '발생', '아', '아크', '전격', '전신', '화상', '지상', '바닥', '사망'], ['상', '황', '도'], ['가공', '전', '접촉', '방지', '조치', '실시'], ['사업주', '가공', '전', '근접', '비계', '설치', '경우', '가공'], ['전', '이설', '가공', '전', '절연', '방', '호구', '장착', '등'], ['가공', '전', '접촉', '방지', '조치'], ['충전', '전', '인근', '접근', '금지', '조치', '실시'], ['사업주', '근로자', '충전', '전', '인근', '곳', '작업', '때'], ['근로자', '몸', '도전', '물체', '방호', '경우', '충전'], ['전', '대지', '전압', '킬로', '볼트', '이하', '경우', '이내', '접근'], ['수', '조치'], ['전도', '방향', '집', '진기', '내부', '구조물', '큐브', '시트']]\n"
     ]
    }
   ],
   "source": [
    "sents_stop = []\n",
    "for sent in sents_noun:\n",
    "    sent_stop = []\n",
    "    for word in sent:\n",
    "        if word not in stoplist:\n",
    "            sent_stop.append(word)\n",
    "    \n",
    "    sents_stop.append(sent_stop)\n",
    "            \n",
    "print(sents_stop)"
   ]
  },
  {
   "cell_type": "code",
   "execution_count": null,
   "id": "3ed4e265",
   "metadata": {},
   "outputs": [],
   "source": [
    "sents_stop = []\n",
    "for sent in sents_noun:\n",
    "    sents_stop.append([word for word in sent if word not in stoplist])\n",
    "            \n",
    "print(sents_stop)"
   ]
  },
  {
   "cell_type": "code",
   "execution_count": null,
   "id": "26fb1141",
   "metadata": {},
   "outputs": [],
   "source": [
    "sents_stop = []\n",
    "for sent in sents_noun:\n",
    "    sents_stop.append([word for word in sent if word not in stoplist])"
   ]
  },
  {
   "cell_type": "markdown",
   "id": "bb1d2f7b",
   "metadata": {},
   "source": [
    "# Export Results"
   ]
  },
  {
   "cell_type": "markdown",
   "id": "d5144096",
   "metadata": {},
   "source": [
    "JSON 패키지를 사용하여 Python의 객체(변수 등)를 외부 파일로 저장할 수 있음"
   ]
  },
  {
   "cell_type": "code",
   "execution_count": 18,
   "id": "f26625c6",
   "metadata": {},
   "outputs": [],
   "source": [
    "import json\n",
    "\n",
    "fdir_corpus = 'C:/Google Drive/playground/23_workspace/bug/corpus/'\n",
    "fname_corpus = 'sents_stop.json'\n",
    "fpath_corpus = os.path.join(fdir_corpus, fname_corpus)\n",
    "\n",
    "with open(fpath_corpus, 'w', encoding='utf-8') as f:\n",
    "    json.dump(sents_stop, f)"
   ]
  },
  {
   "cell_type": "code",
   "execution_count": 19,
   "id": "900f5da7",
   "metadata": {},
   "outputs": [],
   "source": [
    "with open(fpath_corpus, 'r', encoding='utf-8') as f:\n",
    "    tmp = json.load(f)"
   ]
  },
  {
   "cell_type": "code",
   "execution_count": 20,
   "id": "04e03507",
   "metadata": {
    "scrolled": true
   },
   "outputs": [
    {
     "data": {
      "text/plain": [
       "[['낙하', '물', '방지', '망', '설치', '가공', '전', '감전'],\n",
       " ['수',\n",
       "  '경',\n",
       "  '인천시',\n",
       "  '남구',\n",
       "  '숭의동',\n",
       "  '소재',\n",
       "  '주',\n",
       "  '종합',\n",
       "  '건설',\n",
       "  '숭의동',\n",
       "  '업무',\n",
       "  '시설',\n",
       "  '신축',\n",
       "  '공사',\n",
       "  '현장',\n",
       "  '주',\n",
       "  '종합',\n",
       "  '건설',\n",
       "  '소속',\n",
       "  '재자',\n",
       "  '재자',\n",
       "  '남',\n",
       "  '비계',\n",
       "  '공',\n",
       "  '세',\n",
       "  '지상',\n",
       "  '높이',\n",
       "  '외부',\n",
       "  '비계',\n",
       "  '강',\n",
       "  '관',\n",
       "  '파이프',\n",
       "  '이용',\n",
       "  '낙하',\n",
       "  '물',\n",
       "  '방지',\n",
       "  '망',\n",
       "  '설치',\n",
       "  '비계',\n",
       "  '설치',\n",
       "  '강',\n",
       "  '관',\n",
       "  '파이프',\n",
       "  '가공',\n",
       "  '전',\n",
       "  'KV',\n",
       "  '배전',\n",
       "  '선로',\n",
       "  '충전',\n",
       "  '부',\n",
       "  '발생',\n",
       "  '아',\n",
       "  '아크',\n",
       "  '전격',\n",
       "  '전신',\n",
       "  '화상',\n",
       "  '지상',\n",
       "  '바닥',\n",
       "  '사망'],\n",
       " ['상', '황', '도'],\n",
       " ['가공', '전', '접촉', '방지', '조치', '실시'],\n",
       " ['사업주', '가공', '전', '근접', '비계', '설치', '경우', '가공'],\n",
       " ['전', '이설', '가공', '전', '절연', '방', '호구', '장착', '등'],\n",
       " ['가공', '전', '접촉', '방지', '조치'],\n",
       " ['충전', '전', '인근', '접근', '금지', '조치', '실시'],\n",
       " ['사업주', '근로자', '충전', '전', '인근', '곳', '작업', '때'],\n",
       " ['근로자', '몸', '도전', '물체', '방호', '경우', '충전'],\n",
       " ['전', '대지', '전압', '킬로', '볼트', '이하', '경우', '이내', '접근'],\n",
       " ['수', '조치'],\n",
       " ['전도', '방향', '집', '진기', '내부', '구조물', '큐브', '시트']]"
      ]
     },
     "execution_count": 20,
     "metadata": {},
     "output_type": "execute_result"
    }
   ],
   "source": [
    "tmp"
   ]
  },
  {
   "cell_type": "markdown",
   "id": "c9cde648",
   "metadata": {},
   "source": [
    "# NOTE. TXT"
   ]
  },
  {
   "cell_type": "markdown",
   "id": "d438e9dc",
   "metadata": {},
   "source": [
    "TXT 파일로 저장하고 싶다면 f.write(VARIABLE)을 사용"
   ]
  },
  {
   "cell_type": "code",
   "execution_count": 23,
   "id": "c17e3709",
   "metadata": {
    "scrolled": true
   },
   "outputs": [],
   "source": [
    "test = 'I am a boy'"
   ]
  },
  {
   "cell_type": "code",
   "execution_count": 24,
   "id": "ba21c207",
   "metadata": {},
   "outputs": [
    {
     "data": {
      "text/plain": [
       "str"
      ]
     },
     "execution_count": 24,
     "metadata": {},
     "output_type": "execute_result"
    }
   ],
   "source": [
    "type(test)"
   ]
  },
  {
   "cell_type": "code",
   "execution_count": 26,
   "id": "19726d2d",
   "metadata": {},
   "outputs": [],
   "source": [
    "fname_corpus_txt = 'test.txt'\n",
    "fpath_corpus_txt = os.path.join(fdir_corpus, fname_corpus_txt)\n",
    "\n",
    "with open(fpath_corpus_txt, 'w', encoding='utf-8') as f:\n",
    "    f.write(test)"
   ]
  }
 ],
 "metadata": {
  "kernelspec": {
   "display_name": "Python 3 (ipykernel)",
   "language": "python",
   "name": "python3"
  },
  "language_info": {
   "codemirror_mode": {
    "name": "ipython",
    "version": 3
   },
   "file_extension": ".py",
   "mimetype": "text/x-python",
   "name": "python",
   "nbconvert_exporter": "python",
   "pygments_lexer": "ipython3",
   "version": "3.9.7"
  }
 },
 "nbformat": 4,
 "nbformat_minor": 5
}
